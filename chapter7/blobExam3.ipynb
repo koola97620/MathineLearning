{
 "cells": [
  {
   "cell_type": "code",
   "execution_count": 1,
   "outputs": [
    {
     "name": "stdout",
     "text": [
      "(200, 2) (200,)\n",
      "[0 1 2] [67 67 66]\n"
     ],
     "output_type": "stream"
    }
   ],
   "source": [
    "import numpy as np\n",
    "import matplotlib.pyplot as plt\n",
    "from sklearn.cluster import KMeans\n",
    "from sklearn.datasets import make_blobs\n",
    "%matplotlib inline\n",
    "\n",
    "X, y = make_blobs(n_samples=200, n_features=2, centers=3, cluster_std=1.2, random_state=0)\n",
    "print(X.shape , y.shape)\n",
    "\n",
    "unique, counts = np.unique(y, return_counts=True)\n",
    "print(unique, counts)"
   ],
   "metadata": {
    "collapsed": false,
    "pycharm": {
     "name": "#%%\n",
     "is_executing": false
    }
   }
  },
  {
   "cell_type": "code",
   "execution_count": 2,
   "outputs": [
    {
     "data": {
      "text/plain": "       ftr1      ftr2  target\n0 -1.775188  3.974097       2\n1  0.558775  4.491406       0\n2  1.162207  4.757582       0",
      "text/html": "<div>\n<style scoped>\n    .dataframe tbody tr th:only-of-type {\n        vertical-align: middle;\n    }\n\n    .dataframe tbody tr th {\n        vertical-align: top;\n    }\n\n    .dataframe thead th {\n        text-align: right;\n    }\n</style>\n<table border=\"1\" class=\"dataframe\">\n  <thead>\n    <tr style=\"text-align: right;\">\n      <th></th>\n      <th>ftr1</th>\n      <th>ftr2</th>\n      <th>target</th>\n    </tr>\n  </thead>\n  <tbody>\n    <tr>\n      <th>0</th>\n      <td>-1.775188</td>\n      <td>3.974097</td>\n      <td>2</td>\n    </tr>\n    <tr>\n      <th>1</th>\n      <td>0.558775</td>\n      <td>4.491406</td>\n      <td>0</td>\n    </tr>\n    <tr>\n      <th>2</th>\n      <td>1.162207</td>\n      <td>4.757582</td>\n      <td>0</td>\n    </tr>\n  </tbody>\n</table>\n</div>"
     },
     "metadata": {},
     "output_type": "execute_result",
     "execution_count": 2
    }
   ],
   "source": [
    "import pandas as pd\n",
    "\n",
    "clusterDF = pd.DataFrame(data=X, columns=['ftr1','ftr2'])\n",
    "clusterDF['target']=y\n",
    "clusterDF.head(3)"
   ],
   "metadata": {
    "collapsed": false,
    "pycharm": {
     "name": "#%%\n",
     "is_executing": false
    }
   }
  },
  {
   "cell_type": "code",
   "execution_count": 3,
   "outputs": [
    {
     "data": {
      "text/plain": "<Figure size 432x288 with 1 Axes>",
      "image/png": "[encoded data removed]"
     },
     "metadata": {
      "needs_background": "light"
     },
     "output_type": "display_data"
    }
   ],
   "source": [
    "target_list = np.unique(y)\n",
    "markers=['o','s','^','P','D','H','x']\n",
    "for target in target_list:\n",
    "  target_cluster = clusterDF[clusterDF['target'] == target]\n",
    "  plt.scatter(x=target_cluster['ftr1'], y=target_cluster['ftr2'], edgecolor='k',\n",
    "              marker=markers[target])\n",
    "\n",
    "plt.show()\n",
    "  "
   ],
   "metadata": {
    "collapsed": false,
    "pycharm": {
     "name": "#%%\n",
     "is_executing": false
    }
   }
  },
  {
   "cell_type": "code",
   "execution_count": 4,
   "outputs": [
    {
     "data": {
      "text/plain": "<Figure size 432x288 with 1 Axes>",
      "image/png": "[encoded data removed]"
     },
     "metadata": {
      "needs_background": "light"
     },
     "output_type": "display_data"
    }
   ],
   "source": [
    "kmeans = KMeans(n_clusters=3, init='k-means++', max_iter=200, random_state=0)\n",
    "cluster_labels = kmeans.fit_predict(X)\n",
    "clusterDF['kmeans_label'] = cluster_labels\n",
    "\n",
    "centers = kmeans.cluster_centers_\n",
    "unique_labels = np.unique(cluster_labels)\n",
    "markers=['o','s','^','P','D','H','x']\n",
    "\n",
    "for label in unique_labels:\n",
    "  label_cluster = clusterDF[clusterDF['kmeans_label'] == label]\n",
    "  center_x_y = centers[label]\n",
    "  plt.scatter(x=label_cluster['ftr1'] , y=label_cluster['ftr2'], edgecolor='k',\n",
    "              marker = markers[label])\n",
    "  \n",
    "  plt.scatter(x=center_x_y[0], y=center_x_y[1], s=200, color='white',\n",
    "              alpha=0.9, edgecolor='k',marker=markers[label])\n",
    "  plt.scatter(x=center_x_y[0], y=center_x_y[1], s=70, color='k',edgecolor='k',\n",
    "              marker='$%d$' % label)\n",
    "  \n",
    "plt.show()"
   ],
   "metadata": {
    "collapsed": false,
    "pycharm": {
     "name": "#%%\n",
     "is_executing": false
    }
   }
  },
  {
   "cell_type": "code",
   "execution_count": 5,
   "outputs": [
    {
     "name": "stdout",
     "text": [
      "target  kmeans_label\n",
      "0       0               58\n",
      "        2                5\n",
      "        1                4\n",
      "1       1               63\n",
      "        0                3\n",
      "        2                1\n",
      "2       2               60\n",
      "        0                5\n",
      "        1                1\n",
      "Name: kmeans_label, dtype: int64\n"
     ],
     "output_type": "stream"
    }
   ],
   "source": [
    "print(clusterDF.groupby('target')['kmeans_label'].value_counts())\n"
   ],
   "metadata": {
    "collapsed": false,
    "pycharm": {
     "name": "#%%\n",
     "is_executing": false
    }
   }
  }
 ],
 "metadata": {
  "kernelspec": {
   "display_name": "Python 3",
   "language": "python",
   "name": "python3"
  },
  "language_info": {
   "codemirror_mode": {
    "name": "ipython",
    "version": 2
   },
   "file_extension": ".py",
   "mimetype": "text/x-python",
   "name": "python",
   "nbconvert_exporter": "python",
   "pygments_lexer": "ipython2",
   "version": "2.7.6"
  },
  "pycharm": {
   "stem_cell": {
    "cell_type": "raw",
    "source": [],
    "metadata": {
     "collapsed": false
    }
   }
  }
 },
 "nbformat": 4,
 "nbformat_minor": 0
}